{
  "cells": [
    {
      "cell_type": "markdown",
      "metadata": {
        "id": "view-in-github",
        "colab_type": "text"
      },
      "source": [
        "<a href=\"https://colab.research.google.com/github/agliev/Image_classification_profect/blob/main/Tensorflow.ipynb\" target=\"_parent\"><img src=\"https://colab.research.google.com/assets/colab-badge.svg\" alt=\"Open In Colab\"/></a>"
      ]
    },
    {
      "cell_type": "markdown",
      "source": [
        "# **Import**"
      ],
      "metadata": {
        "id": "Tq5sTvAvVIfE"
      }
    },
    {
      "cell_type": "code",
      "source": [
        "import os\n",
        "import numpy as np\n",
        "import tensorflow as tf\n",
        "from shutil import copy2\n",
        "import matplotlib.pyplot as plt\n",
        "from tensorflow.keras.datasets import mnist\n",
        "from tensorflow.keras.models import Sequential\n",
        "from tensorflow.keras.optimizers import Adam, SGD\n",
        "from tensorflow.data.experimental import AUTOTUNE\n",
        "from tensorflow.keras.layers.experimental import preprocessing\n",
        "from tensorflow.keras.preprocessing import image\n",
        "from tensorflow.keras.layers import Dense, Flatten, Conv2D, Dropout, MaxPooling2D\n",
        "from tensorflow.keras.losses import SparseCategoricalCrossentropy, CategoricalCrossentropy"
      ],
      "metadata": {
        "id": "V4hLzJU-Ytr-"
      },
      "execution_count": 298,
      "outputs": []
    },
    {
      "cell_type": "code",
      "source": [
        "learning_rate = 0.001 "
      ],
      "metadata": {
        "id": "XJUga6tW27v4"
      },
      "execution_count": null,
      "outputs": []
    },
    {
      "cell_type": "markdown",
      "source": [
        "# **Handwritten number recognition** by whole-connected model"
      ],
      "metadata": {
        "id": "dIyAUtEhPJcr"
      }
    },
    {
      "cell_type": "code",
      "source": [
        "(x_train, y_train), (x_test, y_test) = mnist.load_data()"
      ],
      "metadata": {
        "id": "EG-7znLxZFLC"
      },
      "execution_count": null,
      "outputs": []
    },
    {
      "cell_type": "code",
      "source": [
        "x_train = x_train/255 # Нормализация полученных значений \n",
        "x_test = x_test/255"
      ],
      "metadata": {
        "id": "tOpLQbYDagEr"
      },
      "execution_count": null,
      "outputs": []
    },
    {
      "cell_type": "code",
      "source": [
        "y_train_cat = tf.keras.utils.to_categorical(y_train)\n",
        "y_test_cat = tf.keras.utils.to_categorical(y_test)"
      ],
      "metadata": {
        "id": "JG2vS_inarXb"
      },
      "execution_count": null,
      "outputs": []
    },
    {
      "cell_type": "code",
      "source": [
        "model = Sequential(layers=[ Flatten(input_shape=(28,28,1)), \n",
        "                            Dense(128, activation='relu'),\n",
        "                            Dense(10, activation='softmax')]\n",
        "                  )"
      ],
      "metadata": {
        "id": "S4aEaY6xZrUM"
      },
      "execution_count": null,
      "outputs": []
    },
    {
      "cell_type": "code",
      "source": [
        "model.compile(optimizer=Adam(),\n",
        "              loss='categorical_crossentropy',\n",
        "              metrics=['accuracy'])"
      ],
      "metadata": {
        "id": "HPhqPy5sb4wL"
      },
      "execution_count": null,
      "outputs": []
    },
    {
      "cell_type": "code",
      "source": [
        "history = model.fit(x_train, y_train_cat, batch_size=32, epochs=30, validation_split=0.10, use_multiprocessing=True)"
      ],
      "metadata": {
        "id": "qg3xofDtZFNq"
      },
      "execution_count": 295,
      "outputs": []
    },
    {
      "cell_type": "code",
      "source": [
        "plt.plot(history.history['val_accuracy'], color='yellow')\n",
        "plt.plot(history.history['accuracy'], color='red')\n"
      ],
      "metadata": {
        "colab": {
          "base_uri": "https://localhost:8080/",
          "height": 283
        },
        "id": "zBeP1DXtiTRF",
        "outputId": "c10967f4-b484-469e-b9eb-5e29391a1a3d"
      },
      "execution_count": null,
      "outputs": [
        {
          "output_type": "execute_result",
          "data": {
            "text/plain": [
              "[<matplotlib.lines.Line2D at 0x7f2b1b7339d0>]"
            ]
          },
          "metadata": {},
          "execution_count": 233
        },
        {
          "output_type": "display_data",
          "data": {
            "text/plain": [
              "<Figure size 432x288 with 1 Axes>"
            ],
            "image/png": "[encoded data removed]"
          },
          "metadata": {
            "needs_background": "light"
          }
        }
      ]
    },
    {
      "cell_type": "code",
      "source": [
        "model.evaluate(x_test, y_test_cat)"
      ],
      "metadata": {
        "colab": {
          "base_uri": "https://localhost:8080/"
        },
        "id": "Ujq-OkkJZFQy",
        "outputId": "f038e69f-5eb8-4e11-c252-9c33f1f5f432"
      },
      "execution_count": null,
      "outputs": [
        {
          "output_type": "stream",
          "name": "stdout",
          "text": [
            "313/313 [==============================] - 0s 2ms/step - loss: 0.1312 - accuracy: 0.9780\n"
          ]
        },
        {
          "output_type": "execute_result",
          "data": {
            "text/plain": [
              "[0.1312418282032013, 0.9779999852180481]"
            ]
          },
          "metadata": {},
          "execution_count": 234
        }
      ]
    },
    {
      "cell_type": "code",
      "source": [
        "model_dropout = Sequential(layers=[ Flatten(input_shape=(28,28,1)), \n",
        "                            Dense(128, activation='relu'),\n",
        "                            Dropout(0.6),\n",
        "                            Dense(10, activation='softmax')]\n",
        "                          )\n",
        "\n",
        "model_dropout.compile(optimizer=Adam(learning_rate),\n",
        "              loss='categorical_crossentropy',\n",
        "              metrics=['accuracy'])\n",
        "\n",
        "history_dropout = model_dropout.fit(x_train, y_train_cat, batch_size=32, epochs=150, validation_split=0.15, use_multiprocessing=True)"
      ],
      "metadata": {
        "id": "B7spWoUI7m0E"
      },
      "execution_count": null,
      "outputs": []
    },
    {
      "cell_type": "code",
      "source": [
        "plt.plot(history_dropout.history['val_accuracy'], color='yellow')\n",
        "plt.plot(history_dropout.history['accuracy'], color='red')\n"
      ],
      "metadata": {
        "colab": {
          "base_uri": "https://localhost:8080/",
          "height": 283
        },
        "id": "qJKHj0r28Y5x",
        "outputId": "bcd4e161-650c-4ad4-e939-0dff684c5591"
      },
      "execution_count": null,
      "outputs": [
        {
          "output_type": "execute_result",
          "data": {
            "text/plain": [
              "[<matplotlib.lines.Line2D at 0x7f2b06edb750>]"
            ]
          },
          "metadata": {},
          "execution_count": 254
        },
        {
          "output_type": "display_data",
          "data": {
            "text/plain": [
              "<Figure size 432x288 with 1 Axes>"
            ],
            "image/png": "[encoded data removed]"
          },
          "metadata": {
            "needs_background": "light"
          }
        }
      ]
    },
    {
      "cell_type": "code",
      "source": [
        "model_dropout.evaluate(x_test, y_test_cat)"
      ],
      "metadata": {
        "colab": {
          "base_uri": "https://localhost:8080/"
        },
        "id": "KaST5emi8fao",
        "outputId": "fa17953d-2545-4f7d-8386-217880c951ea"
      },
      "execution_count": null,
      "outputs": [
        {
          "output_type": "stream",
          "name": "stdout",
          "text": [
            "313/313 [==============================] - 1s 2ms/step - loss: 0.1680 - accuracy: 0.9765\n"
          ]
        },
        {
          "output_type": "execute_result",
          "data": {
            "text/plain": [
              "[0.16804765164852142, 0.9764999747276306]"
            ]
          },
          "metadata": {},
          "execution_count": 255
        }
      ]
    },
    {
      "cell_type": "markdown",
      "source": [
        "# **tiny_imagenet_200**: Preparations  "
      ],
      "metadata": {
        "id": "gEROU5F5QC8Y"
      }
    },
    {
      "cell_type": "markdown",
      "source": [
        "Выгрузим **tiny_imagenet_200** "
      ],
      "metadata": {
        "id": "xfr13yxAN6aL"
      }
    },
    {
      "cell_type": "code",
      "source": [
        "# # Начнем с выгрузки zip файла, после распакуем его\n",
        "# !wget http://cs231n.stanford.edu/tiny-imagenet-200.zip\n",
        "\n",
        "# from zipfile import ZipFile \n",
        "\n",
        "# with ZipFile('Mail3.zip', 'r') as zipObj:\n",
        "#    # Extract all the contents of zip file in current directory\n",
        "#    zipObj.extractall()"
      ],
      "metadata": {
        "id": "6qUNNL3UOSe0"
      },
      "execution_count": null,
      "outputs": []
    },
    {
      "cell_type": "code",
      "source": [
        "TRAIN_CAT_DIR = '/content/tiny-imagenet-200/train/' # Хранилице папок с фото по категориям\n",
        "TRAIN_ALL_DIR = '/content/tiny-imagenet-200/train_all/' # Папка со всеми фото для обучения"
      ],
      "metadata": {
        "id": "36P02sRZRghY"
      },
      "execution_count": null,
      "outputs": []
    },
    {
      "cell_type": "code",
      "source": [
        "# for cat in os.listdir(TRAIN_CAT_DIR): # Выгружаем фото всех категорий в единую папку train_all\n",
        "    \n",
        "#     images_dir = TRAIN_CAT_DIR + cat + '/images/'\n",
        "\n",
        "#     for image in os.listdir(images_dir):\n",
        "#         copy2(images_dir+image, TRAIN_ALL_DIR)"
      ],
      "metadata": {
        "id": "6JRhVNbNS1at"
      },
      "execution_count": null,
      "outputs": []
    },
    {
      "cell_type": "code",
      "source": [
        "train_dataset = tf.keras.preprocessing.image_dataset_from_directory( directory=TRAIN_CAT_DIR,\n",
        "                                                                     validation_split=0.1,\n",
        "                                                                     subset='training',\n",
        "                                                                     seed=90,\n",
        "                                                                     image_size=(64, 64)\n",
        "                                                                                              ).cache().prefetch(AUTOTUNE)\n",
        "\n",
        "val_dataset = tf.keras.preprocessing.image_dataset_from_directory( TRAIN_CAT_DIR,\n",
        "                                                                   validation_split=0.1,\n",
        "                                                                   subset='validation',\n",
        "                                                                   seed=90,\n",
        "                                                                   image_size=(64, 64)\n",
        "                                                                                              ).cache().prefetch(AUTOTUNE)"
      ],
      "metadata": {
        "colab": {
          "base_uri": "https://localhost:8080/"
        },
        "id": "qJEZ-RlRQkEv",
        "outputId": "57ec4fb0-2527-451c-ff41-cc173b3bcb26"
      },
      "execution_count": 283,
      "outputs": [
        {
          "output_type": "stream",
          "name": "stdout",
          "text": [
            "Found 100000 files belonging to 200 classes.\n",
            "Using 90000 files for training.\n",
            "Found 100000 files belonging to 200 classes.\n",
            "Using 10000 files for validation.\n"
          ]
        }
      ]
    },
    {
      "cell_type": "markdown",
      "source": [
        "# **tiny_imagenet_200**: Model"
      ],
      "metadata": {
        "id": "QTRVHr_GVu9E"
      }
    },
    {
      "cell_type": "code",
      "source": [
        "model = Sequential(name = 'Lenet')\n",
        "model.add(tf.keras.Input(shape=(64, 64, 3)))\n",
        "\n",
        "model.add(preprocessing.Rescaling(1 / 255))\n",
        "\n",
        "model.add(Conv2D(6, 5, activation = 'relu', name = 'conv1'))\n",
        "model.add(MaxPooling2D(pool_size = 2, strides = 2, name = \"maxpool1\"))\n",
        "\n",
        "model.add(Conv2D(16, 5, activation = 'relu', name = \"conv2\"))\n",
        "model.add(MaxPooling2D(pool_size = 2, strides = 2, name = \"maxpool2\"))\n",
        "\n",
        "model.add(Flatten())\n",
        "\n",
        "model.add(Dense(1000, activation = 'relu', name = \"dence1\"))\n",
        "model.add(Dense(200, activation = 'softmax', name = \"dense2\"))"
      ],
      "metadata": {
        "id": "qaQtMvsuU94D"
      },
      "execution_count": 288,
      "outputs": []
    },
    {
      "cell_type": "code",
      "source": [
        "model.compile(optimizer=Adam(learning_rate), loss=SparseCategoricalCrossentropy(), metrics=['accuracy'])"
      ],
      "metadata": {
        "id": "6ITGLNdqW0wq"
      },
      "execution_count": 289,
      "outputs": []
    },
    {
      "cell_type": "code",
      "source": [
        "#model.summary()"
      ],
      "metadata": {
        "id": "tOWg610ZWdD6"
      },
      "execution_count": null,
      "outputs": []
    },
    {
      "cell_type": "code",
      "source": [
        "model.fit(train_dataset, \n",
        "          validation_data=val_dataset,\n",
        "          batch_size=32,\n",
        "          epochs=1,\n",
        "          use_multiprocessing=True)"
      ],
      "metadata": {
        "colab": {
          "base_uri": "https://localhost:8080/"
        },
        "id": "_8RxkojYWgER",
        "outputId": "4f2836cd-1eda-41d4-ecaa-ca7d99c15a9c"
      },
      "execution_count": 291,
      "outputs": [
        {
          "output_type": "stream",
          "name": "stdout",
          "text": [
            "2813/2813 [==============================] - 407s 145ms/step - loss: 4.4526 - accuracy: 0.0901 - val_loss: 4.1262 - val_accuracy: 0.1311\n"
          ]
        },
        {
          "output_type": "execute_result",
          "data": {
            "text/plain": [
              "<keras.callbacks.History at 0x7f2b05495c50>"
            ]
          },
          "metadata": {},
          "execution_count": 291
        }
      ]
    },
    {
      "cell_type": "code",
      "source": [
        "TEST_DIR = '/content/tiny-imagenet-200/test/images/'\n",
        "test_ImageNames = os.listdir(TEST_DIR)"
      ],
      "metadata": {
        "id": "EIyly_N0ZVsN"
      },
      "execution_count": 321,
      "outputs": []
    },
    {
      "cell_type": "code",
      "source": [
        "img = image.load_img(TEST_DIR+test_ImageNames[0])\n",
        "img_num = image.img_to_array(img) "
      ],
      "metadata": {
        "id": "HR6rrB7waTUg"
      },
      "execution_count": 328,
      "outputs": []
    },
    {
      "cell_type": "code",
      "source": [
        "# img_num = np.expand_dims(img_num, axis=0)\n",
        "# img_num.shape\n",
        "pred = np.argmax(model.predict(img_num)[0])\n"
      ],
      "metadata": {
        "colab": {
          "base_uri": "https://localhost:8080/"
        },
        "id": "tfjZBQXTbNUc",
        "outputId": "62b764f3-7735-48e6-c8f6-931d1c3fecc0"
      },
      "execution_count": 349,
      "outputs": [
        {
          "output_type": "execute_result",
          "data": {
            "text/plain": [
              "132"
            ]
          },
          "metadata": {},
          "execution_count": 349
        }
      ]
    },
    {
      "cell_type": "code",
      "source": [],
      "metadata": {
        "id": "K49RXT7Dd2zE"
      },
      "execution_count": null,
      "outputs": []
    },
    {
      "cell_type": "code",
      "source": [],
      "metadata": {
        "colab": {
          "base_uri": "https://localhost:8080/",
          "height": 171
        },
        "id": "wK1xF-SFdZAs",
        "outputId": "ec67a3ac-ddc0-49e1-eef9-de5223f4aad4"
      },
      "execution_count": 343,
      "outputs": [
        {
          "output_type": "error",
          "ename": "IndexError",
          "evalue": "ignored",
          "traceback": [
            "\u001b[0;31m---------------------------------------------------------------------------\u001b[0m",
            "\u001b[0;31mIndexError\u001b[0m                                Traceback (most recent call last)",
            "\u001b[0;32m<ipython-input-343-9a3e06bd4673>\u001b[0m in \u001b[0;36m<module>\u001b[0;34m\u001b[0m\n\u001b[0;32m----> 1\u001b[0;31m \u001b[0mmodel\u001b[0m\u001b[0;34m.\u001b[0m\u001b[0mpredict\u001b[0m\u001b[0;34m(\u001b[0m\u001b[0mimg_num\u001b[0m\u001b[0;34m)\u001b[0m\u001b[0;34m[\u001b[0m\u001b[0;36m1\u001b[0m\u001b[0;34m]\u001b[0m\u001b[0;34m\u001b[0m\u001b[0;34m\u001b[0m\u001b[0m\n\u001b[0m",
            "\u001b[0;31mIndexError\u001b[0m: index 1 is out of bounds for axis 0 with size 1"
          ]
        }
      ]
    }
  ],
  "metadata": {
    "kernelspec": {
      "display_name": "Python 3.9.2 64-bit",
      "language": "python",
      "name": "python3"
    },
    "language_info": {
      "codemirror_mode": {
        "name": "ipython",
        "version": 3
      },
      "file_extension": ".py",
      "mimetype": "text/x-python",
      "name": "python",
      "nbconvert_exporter": "python",
      "pygments_lexer": "ipython3",
      "version": "3.9.2"
    },
    "orig_nbformat": 4,
    "vscode": {
      "interpreter": {
        "hash": "81794d4967e6c3204c66dcd87b604927b115b27c00565d3d43f05ba2f3a2cb0d"
      }
    },
    "colab": {
      "provenance": [],
      "toc_visible": true,
      "include_colab_link": true
    }
  },
  "nbformat": 4,
  "nbformat_minor": 0
}